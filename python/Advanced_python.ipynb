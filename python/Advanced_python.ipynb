{
 "cells": [
  {
   "cell_type": "code",
   "execution_count": 84,
   "metadata": {
    "collapsed": true
   },
   "outputs": [],
   "source": [
    "import pandas as pd\n",
    "from collections import defaultdict\n",
    "import csv"
   ]
  },
  {
   "cell_type": "code",
   "execution_count": 85,
   "metadata": {
    "collapsed": false
   },
   "outputs": [
    {
     "data": {
      "text/html": [
       "<div>\n",
       "<table border=\"1\" class=\"dataframe\">\n",
       "  <thead>\n",
       "    <tr style=\"text-align: right;\">\n",
       "      <th></th>\n",
       "      <th>name</th>\n",
       "      <th>degree</th>\n",
       "      <th>title</th>\n",
       "      <th>email</th>\n",
       "    </tr>\n",
       "  </thead>\n",
       "  <tbody>\n",
       "    <tr>\n",
       "      <th>0</th>\n",
       "      <td>Scarlett L. Bellamy</td>\n",
       "      <td>ScD</td>\n",
       "      <td>Associate Professor of Biostatistics</td>\n",
       "      <td>bellamys@mail.med.upenn.edu</td>\n",
       "    </tr>\n",
       "    <tr>\n",
       "      <th>1</th>\n",
       "      <td>Warren B. Bilker</td>\n",
       "      <td>PhD</td>\n",
       "      <td>Professor of Biostatistics</td>\n",
       "      <td>warren@upenn.edu</td>\n",
       "    </tr>\n",
       "    <tr>\n",
       "      <th>2</th>\n",
       "      <td>Matthew W Bryan</td>\n",
       "      <td>PhD</td>\n",
       "      <td>Assistant Professor of Biostatistics</td>\n",
       "      <td>bryanma@upenn.edu</td>\n",
       "    </tr>\n",
       "    <tr>\n",
       "      <th>3</th>\n",
       "      <td>Jinbo Chen</td>\n",
       "      <td>PhD</td>\n",
       "      <td>Associate Professor of Biostatistics</td>\n",
       "      <td>jinboche@upenn.edu</td>\n",
       "    </tr>\n",
       "    <tr>\n",
       "      <th>4</th>\n",
       "      <td>Susan S Ellenberg</td>\n",
       "      <td>PhD</td>\n",
       "      <td>Professor of Biostatistics</td>\n",
       "      <td>sellenbe@upenn.edu</td>\n",
       "    </tr>\n",
       "  </tbody>\n",
       "</table>\n",
       "</div>"
      ],
      "text/plain": [
       "                  name degree                                 title  \\\n",
       "0  Scarlett L. Bellamy    ScD  Associate Professor of Biostatistics   \n",
       "1     Warren B. Bilker    PhD            Professor of Biostatistics   \n",
       "2      Matthew W Bryan    PhD  Assistant Professor of Biostatistics   \n",
       "3           Jinbo Chen    PhD  Associate Professor of Biostatistics   \n",
       "4    Susan S Ellenberg    PhD            Professor of Biostatistics   \n",
       "\n",
       "                         email  \n",
       "0  bellamys@mail.med.upenn.edu  \n",
       "1             warren@upenn.edu  \n",
       "2            bryanma@upenn.edu  \n",
       "3           jinboche@upenn.edu  \n",
       "4           sellenbe@upenn.edu  "
      ]
     },
     "execution_count": 85,
     "metadata": {},
     "output_type": "execute_result"
    }
   ],
   "source": [
    "#before reading in the data, we need to make sure there are no whitespaces\n",
    "#leading or trailing the text. \n",
    "\n",
    "#Coverters: Dict of functions for converting values in certain columns. Keys can \n",
    "#either be integers or column labels \n",
    "\n",
    "\n",
    "def strip(text):\n",
    "    try:\n",
    "        return text.strip()\n",
    "    except AttributeError:\n",
    "        return text\n",
    "    \n",
    "def stripReplace(text):\n",
    "    try:\n",
    "        return text.strip().replace('.','').replace('0', 'none')\n",
    "    except AttributeError:\n",
    "        return text    \n",
    "\n",
    "data = pd.read_csv('faculty.csv', sep =',',\n",
    "                    names = [\"name\", \"degree\", \"title\", \"email\"],\n",
    "                    header = 0,\n",
    "                    converters = {'name' : strip,\n",
    "                                  'degree' : stripReplace,\n",
    "                                  'title' : strip,\n",
    "                                  'email' : strip})\n",
    "data.head()"
   ]
  },
  {
   "cell_type": "code",
   "execution_count": 86,
   "metadata": {
    "collapsed": false
   },
   "outputs": [
    {
     "data": {
      "text/plain": [
       "defaultdict(int,\n",
       "            {'BSEd': 1,\n",
       "             'JD': 1,\n",
       "             'MA': 1,\n",
       "             'MD': 1,\n",
       "             'MPH': 2,\n",
       "             'MS': 2,\n",
       "             'PhD': 31,\n",
       "             'ScD': 6,\n",
       "             'none': 1})"
      ]
     },
     "execution_count": 86,
     "metadata": {},
     "output_type": "execute_result"
    }
   ],
   "source": [
    "degrees = list(data.degree)\n",
    "Alldegrees = []\n",
    "for item in degrees:\n",
    "    Alldegrees.extend(item.split())\n",
    "    \n",
    "degree_count = defaultdict(int)\n",
    "for degree in Alldegrees:\n",
    "    degree_count[degree] += 1\n",
    "    \n",
    "degree_count"
   ]
  },
  {
   "cell_type": "code",
   "execution_count": 87,
   "metadata": {
    "collapsed": false
   },
   "outputs": [
    {
     "data": {
      "text/html": [
       "<div>\n",
       "<table border=\"1\" class=\"dataframe\">\n",
       "  <thead>\n",
       "    <tr style=\"text-align: right;\">\n",
       "      <th></th>\n",
       "      <th>0</th>\n",
       "    </tr>\n",
       "  </thead>\n",
       "  <tbody>\n",
       "    <tr>\n",
       "      <th>MA</th>\n",
       "      <td>1</td>\n",
       "    </tr>\n",
       "    <tr>\n",
       "      <th>PhD</th>\n",
       "      <td>31</td>\n",
       "    </tr>\n",
       "    <tr>\n",
       "      <th>MS</th>\n",
       "      <td>2</td>\n",
       "    </tr>\n",
       "    <tr>\n",
       "      <th>none</th>\n",
       "      <td>1</td>\n",
       "    </tr>\n",
       "    <tr>\n",
       "      <th>JD</th>\n",
       "      <td>1</td>\n",
       "    </tr>\n",
       "    <tr>\n",
       "      <th>ScD</th>\n",
       "      <td>6</td>\n",
       "    </tr>\n",
       "    <tr>\n",
       "      <th>MPH</th>\n",
       "      <td>2</td>\n",
       "    </tr>\n",
       "    <tr>\n",
       "      <th>MD</th>\n",
       "      <td>1</td>\n",
       "    </tr>\n",
       "    <tr>\n",
       "      <th>BSEd</th>\n",
       "      <td>1</td>\n",
       "    </tr>\n",
       "  </tbody>\n",
       "</table>\n",
       "</div>"
      ],
      "text/plain": [
       "       0\n",
       "MA     1\n",
       "PhD   31\n",
       "MS     2\n",
       "none   1\n",
       "JD     1\n",
       "ScD    6\n",
       "MPH    2\n",
       "MD     1\n",
       "BSEd   1"
      ]
     },
     "execution_count": 87,
     "metadata": {},
     "output_type": "execute_result"
    }
   ],
   "source": [
    "freqs = pd.DataFrame.from_dict(degree_count, orient='index')\n",
    "freqs"
   ]
  },
  {
   "cell_type": "code",
   "execution_count": 88,
   "metadata": {
    "collapsed": false
   },
   "outputs": [
    {
     "data": {
      "text/plain": [
       "Professor of Biostatistics              13\n",
       "Assistant Professor of Biostatistics    12\n",
       "Associate Professor of Biostatistics    12\n",
       "Name: title, dtype: int64"
      ]
     },
     "execution_count": 88,
     "metadata": {},
     "output_type": "execute_result"
    }
   ],
   "source": [
    "data.title.values[24] = data.title.values[24].replace(' is ', ' of ')\n",
    "data.title.value_counts()"
   ]
  },
  {
   "cell_type": "code",
   "execution_count": 89,
   "metadata": {
    "collapsed": false
   },
   "outputs": [],
   "source": [
    "email_list = list(data.email.values)"
   ]
  },
  {
   "cell_type": "code",
   "execution_count": 90,
   "metadata": {
    "collapsed": false
   },
   "outputs": [
    {
     "data": {
      "text/plain": [
       "{'cceb.med.upenn.edu', 'email.chop.edu', 'mail.med.upenn.edu', 'upenn.edu'}"
      ]
     },
     "execution_count": 90,
     "metadata": {},
     "output_type": "execute_result"
    }
   ],
   "source": [
    "new_list = []\n",
    "domains = []\n",
    "for item in email_list:\n",
    "    new_list.append(item.split('@'))\n",
    "    \n",
    "for item in new_list:\n",
    "    domains.append(item[1])\n",
    "\n",
    "set(domains)"
   ]
  },
  {
   "cell_type": "code",
   "execution_count": 109,
   "metadata": {
    "collapsed": false
   },
   "outputs": [],
   "source": [
    "with open('emails.csv', 'w') as f:\n",
    "    for email in data.email.values:\n",
    "        f.write('%s\\n' % email)"
   ]
  },
  {
   "cell_type": "code",
   "execution_count": 103,
   "metadata": {
    "collapsed": false
   },
   "outputs": [
    {
     "data": {
      "text/plain": [
       "['bellamys@mail.med.upenn.edu',\n",
       " 'warren@upenn.edu',\n",
       " 'bryanma@upenn.edu',\n",
       " 'jinboche@upenn.edu',\n",
       " 'sellenbe@upenn.edu',\n",
       " 'jellenbe@mail.med.upenn.edu',\n",
       " 'ruifeng@upenn.edu',\n",
       " 'bcfrench@mail.med.upenn.edu',\n",
       " 'pgimotty@upenn.edu',\n",
       " 'wguo@mail.med.upenn.edu',\n",
       " 'hsu9@mail.med.upenn.edu',\n",
       " 'rhubb@mail.med.upenn.edu',\n",
       " 'whwang@mail.med.upenn.edu',\n",
       " 'mjoffe@mail.med.upenn.edu',\n",
       " 'jrlandis@mail.med.upenn.edu',\n",
       " 'liy3@email.chop.edu',\n",
       " 'mingyao@mail.med.upenn.edu',\n",
       " 'hongzhe@upenn.edu',\n",
       " 'rlocalio@upenn.edu',\n",
       " 'nanditam@mail.med.upenn.edu',\n",
       " 'knashawn@mail.med.upenn.edu',\n",
       " 'propert@mail.med.upenn.edu',\n",
       " 'mputt@mail.med.upenn.edu',\n",
       " 'sratclif@upenn.edu',\n",
       " 'michross@upenn.edu',\n",
       " 'jaroy@mail.med.upenn.edu',\n",
       " 'msammel@cceb.med.upenn.edu',\n",
       " 'shawp@upenn.edu',\n",
       " 'rshi@mail.med.upenn.edu',\n",
       " 'hshou@mail.med.upenn.edu',\n",
       " 'jshults@mail.med.upenn.edu',\n",
       " 'alisaste@mail.med.upenn.edu',\n",
       " 'atroxel@mail.med.upenn.edu',\n",
       " 'rxiao@mail.med.upenn.edu',\n",
       " 'sxie@mail.med.upenn.edu',\n",
       " 'dxie@upenn.edu',\n",
       " 'weiyang@mail.med.upenn.edu']"
      ]
     },
     "execution_count": 103,
     "metadata": {},
     "output_type": "execute_result"
    }
   ],
   "source": [
    "list(data.email)"
   ]
  },
  {
   "cell_type": "code",
   "execution_count": null,
   "metadata": {
    "collapsed": true
   },
   "outputs": [],
   "source": [
    "\n"
   ]
  }
 ],
 "metadata": {
  "kernelspec": {
   "display_name": "Python 3",
   "language": "python",
   "name": "python3"
  },
  "language_info": {
   "codemirror_mode": {
    "name": "ipython",
    "version": 3
   },
   "file_extension": ".py",
   "mimetype": "text/x-python",
   "name": "python",
   "nbconvert_exporter": "python",
   "pygments_lexer": "ipython3",
   "version": "3.5.1"
  }
 },
 "nbformat": 4,
 "nbformat_minor": 0
}
