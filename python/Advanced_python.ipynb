{
 "cells": [
  {
   "cell_type": "code",
   "execution_count": 53,
   "metadata": {
    "collapsed": true
   },
   "outputs": [],
   "source": [
    "import pandas as pd\n",
    "from collections import defaultdict\n",
    "import csv"
   ]
  },
  {
   "cell_type": "code",
   "execution_count": 54,
   "metadata": {
    "collapsed": false
   },
   "outputs": [
    {
     "data": {
      "text/html": [
       "<div>\n",
       "<table border=\"1\" class=\"dataframe\">\n",
       "  <thead>\n",
       "    <tr style=\"text-align: right;\">\n",
       "      <th></th>\n",
       "      <th>name</th>\n",
       "      <th>degree</th>\n",
       "      <th>title</th>\n",
       "      <th>email</th>\n",
       "    </tr>\n",
       "  </thead>\n",
       "  <tbody>\n",
       "    <tr>\n",
       "      <th>0</th>\n",
       "      <td>Scarlett L. Bellamy</td>\n",
       "      <td>ScD</td>\n",
       "      <td>Associate Professor of Biostatistics</td>\n",
       "      <td>bellamys@mail.med.upenn.edu</td>\n",
       "    </tr>\n",
       "    <tr>\n",
       "      <th>1</th>\n",
       "      <td>Warren B. Bilker</td>\n",
       "      <td>PhD</td>\n",
       "      <td>Professor of Biostatistics</td>\n",
       "      <td>warren@upenn.edu</td>\n",
       "    </tr>\n",
       "    <tr>\n",
       "      <th>2</th>\n",
       "      <td>Matthew W Bryan</td>\n",
       "      <td>PhD</td>\n",
       "      <td>Assistant Professor of Biostatistics</td>\n",
       "      <td>bryanma@upenn.edu</td>\n",
       "    </tr>\n",
       "    <tr>\n",
       "      <th>3</th>\n",
       "      <td>Jinbo Chen</td>\n",
       "      <td>PhD</td>\n",
       "      <td>Associate Professor of Biostatistics</td>\n",
       "      <td>jinboche@upenn.edu</td>\n",
       "    </tr>\n",
       "    <tr>\n",
       "      <th>4</th>\n",
       "      <td>Susan S Ellenberg</td>\n",
       "      <td>PhD</td>\n",
       "      <td>Professor of Biostatistics</td>\n",
       "      <td>sellenbe@upenn.edu</td>\n",
       "    </tr>\n",
       "  </tbody>\n",
       "</table>\n",
       "</div>"
      ],
      "text/plain": [
       "                  name degree                                 title  \\\n",
       "0  Scarlett L. Bellamy    ScD  Associate Professor of Biostatistics   \n",
       "1     Warren B. Bilker    PhD            Professor of Biostatistics   \n",
       "2      Matthew W Bryan    PhD  Assistant Professor of Biostatistics   \n",
       "3           Jinbo Chen    PhD  Associate Professor of Biostatistics   \n",
       "4    Susan S Ellenberg    PhD            Professor of Biostatistics   \n",
       "\n",
       "                         email  \n",
       "0  bellamys@mail.med.upenn.edu  \n",
       "1             warren@upenn.edu  \n",
       "2            bryanma@upenn.edu  \n",
       "3           jinboche@upenn.edu  \n",
       "4           sellenbe@upenn.edu  "
      ]
     },
     "execution_count": 54,
     "metadata": {},
     "output_type": "execute_result"
    }
   ],
   "source": [
    "#before reading in the data, we need to make sure there are no whitespaces\n",
    "#leading or trailing the text. \n",
    "\n",
    "#Coverters: Dict of functions for converting values in certain columns. Keys can \n",
    "#either be integers or column labels \n",
    "\n",
    "\n",
    "def strip(text):\n",
    "    try:\n",
    "        return text.strip()\n",
    "    except AttributeError:\n",
    "        return text\n",
    "    \n",
    "def stripReplace(text):\n",
    "    try:\n",
    "        return text.strip().replace('.','').replace('0', 'none')\n",
    "    except AttributeError:\n",
    "        return text    \n",
    "\n",
    "data = pd.read_csv('faculty.csv', sep =',',\n",
    "                    names = [\"name\", \"degree\", \"title\", \"email\"],\n",
    "                    header = 0,\n",
    "                    converters = {'name' : strip,\n",
    "                                  'degree' : stripReplace,\n",
    "                                  'title' : strip,\n",
    "                                  'email' : strip})\n",
    "data.head()"
   ]
  },
  {
   "cell_type": "code",
   "execution_count": 55,
   "metadata": {
    "collapsed": false
   },
   "outputs": [
    {
     "data": {
      "text/plain": [
       "defaultdict(int,\n",
       "            {'BSEd': 1,\n",
       "             'JD': 1,\n",
       "             'MA': 1,\n",
       "             'MD': 1,\n",
       "             'MPH': 2,\n",
       "             'MS': 2,\n",
       "             'PhD': 31,\n",
       "             'ScD': 6,\n",
       "             'none': 1})"
      ]
     },
     "execution_count": 55,
     "metadata": {},
     "output_type": "execute_result"
    }
   ],
   "source": [
    "degrees = list(data.degree)\n",
    "Alldegrees = []\n",
    "for item in degrees:\n",
    "    Alldegrees.extend(item.split())\n",
    "    \n",
    "degree_count = defaultdict(int)\n",
    "for degree in Alldegrees:\n",
    "    degree_count[degree] += 1\n",
    "    \n",
    "degree_count"
   ]
  },
  {
   "cell_type": "code",
   "execution_count": 56,
   "metadata": {
    "collapsed": false
   },
   "outputs": [
    {
     "data": {
      "text/html": [
       "<div>\n",
       "<table border=\"1\" class=\"dataframe\">\n",
       "  <thead>\n",
       "    <tr style=\"text-align: right;\">\n",
       "      <th></th>\n",
       "      <th>0</th>\n",
       "    </tr>\n",
       "  </thead>\n",
       "  <tbody>\n",
       "    <tr>\n",
       "      <th>none</th>\n",
       "      <td>1</td>\n",
       "    </tr>\n",
       "    <tr>\n",
       "      <th>PhD</th>\n",
       "      <td>31</td>\n",
       "    </tr>\n",
       "    <tr>\n",
       "      <th>MD</th>\n",
       "      <td>1</td>\n",
       "    </tr>\n",
       "    <tr>\n",
       "      <th>MPH</th>\n",
       "      <td>2</td>\n",
       "    </tr>\n",
       "    <tr>\n",
       "      <th>JD</th>\n",
       "      <td>1</td>\n",
       "    </tr>\n",
       "    <tr>\n",
       "      <th>BSEd</th>\n",
       "      <td>1</td>\n",
       "    </tr>\n",
       "    <tr>\n",
       "      <th>MS</th>\n",
       "      <td>2</td>\n",
       "    </tr>\n",
       "    <tr>\n",
       "      <th>ScD</th>\n",
       "      <td>6</td>\n",
       "    </tr>\n",
       "    <tr>\n",
       "      <th>MA</th>\n",
       "      <td>1</td>\n",
       "    </tr>\n",
       "  </tbody>\n",
       "</table>\n",
       "</div>"
      ],
      "text/plain": [
       "       0\n",
       "none   1\n",
       "PhD   31\n",
       "MD     1\n",
       "MPH    2\n",
       "JD     1\n",
       "BSEd   1\n",
       "MS     2\n",
       "ScD    6\n",
       "MA     1"
      ]
     },
     "execution_count": 56,
     "metadata": {},
     "output_type": "execute_result"
    }
   ],
   "source": [
    "freqs = pd.DataFrame.from_dict(degree_count, orient='index')\n",
    "freqs"
   ]
  },
  {
   "cell_type": "code",
   "execution_count": 57,
   "metadata": {
    "collapsed": false
   },
   "outputs": [
    {
     "data": {
      "text/plain": [
       "Professor of Biostatistics              13\n",
       "Assistant Professor of Biostatistics    12\n",
       "Associate Professor of Biostatistics    12\n",
       "Name: title, dtype: int64"
      ]
     },
     "execution_count": 57,
     "metadata": {},
     "output_type": "execute_result"
    }
   ],
   "source": [
    "data.title.values[24] = data.title.values[24].replace(' is ', ' of ')\n",
    "data.title.value_counts()"
   ]
  },
  {
   "cell_type": "code",
   "execution_count": 58,
   "metadata": {
    "collapsed": false
   },
   "outputs": [],
   "source": [
    "email_list = list(data.email.values)"
   ]
  },
  {
   "cell_type": "code",
   "execution_count": 81,
   "metadata": {
    "collapsed": false
   },
   "outputs": [
    {
     "data": {
      "text/plain": [
       "{'cceb.med.upenn.edu', 'email.chop.edu', 'mail.med.upenn.edu', 'upenn.edu'}"
      ]
     },
     "execution_count": 81,
     "metadata": {},
     "output_type": "execute_result"
    }
   ],
   "source": [
    "domains = []\n",
    "for item in email_list:\n",
    "    domains.append(item.split('@')[-1])\n",
    "    \n",
    "set(domains)"
   ]
  },
  {
   "cell_type": "code",
   "execution_count": 39,
   "metadata": {
    "collapsed": false
   },
   "outputs": [],
   "source": [
    "with open('emails.csv', 'w') as fp:\n",
    "    for email in data.email.values:\n",
    "        fp.write('%s\\n' % email)"
   ]
  },
  {
   "cell_type": "code",
   "execution_count": 94,
   "metadata": {
    "collapsed": false
   },
   "outputs": [
    {
     "data": {
      "text/plain": [
       "{'Bellamy': ('ScD',\n",
       "  'Associate Professor of Biostatistics',\n",
       "  'bellamys@mail.med.upenn.edu'),\n",
       " 'Bilker': ('PhD', 'Professor of Biostatistics', 'warren@upenn.edu'),\n",
       " 'Bryan': ('PhD', 'Assistant Professor of Biostatistics', 'bryanma@upenn.edu'),\n",
       " 'Chen': ('PhD', 'Associate Professor of Biostatistics', 'jinboche@upenn.edu'),\n",
       " 'Ellenberg': ('PhD',\n",
       "  'Professor of Biostatistics',\n",
       "  'jellenbe@mail.med.upenn.edu'),\n",
       " 'Feng': ('PhD', 'Assistant Professor of Biostatistics', 'ruifeng@upenn.edu'),\n",
       " 'French': ('PhD',\n",
       "  'Associate Professor of Biostatistics',\n",
       "  'bcfrench@mail.med.upenn.edu'),\n",
       " 'Gimotty': ('PhD', 'Professor of Biostatistics', 'pgimotty@upenn.edu'),\n",
       " 'Guo': ('PhD', 'Professor of Biostatistics', 'wguo@mail.med.upenn.edu'),\n",
       " 'Hsu': ('PhD',\n",
       "  'Assistant Professor of Biostatistics',\n",
       "  'hsu9@mail.med.upenn.edu'),\n",
       " 'Hubbard': ('PhD',\n",
       "  'Associate Professor of Biostatistics',\n",
       "  'rhubb@mail.med.upenn.edu'),\n",
       " 'Hwang': ('PhD',\n",
       "  'Associate Professor of Biostatistics',\n",
       "  'whwang@mail.med.upenn.edu'),\n",
       " 'Joffe': ('MD MPH PhD',\n",
       "  'Professor of Biostatistics',\n",
       "  'mjoffe@mail.med.upenn.edu'),\n",
       " 'Landis': ('BSEd MS PhD',\n",
       "  'Professor of Biostatistics',\n",
       "  'jrlandis@mail.med.upenn.edu'),\n",
       " 'Li': ('PhD', 'Professor of Biostatistics', 'hongzhe@upenn.edu'),\n",
       " 'Localio': ('JD MA MPH MS PhD',\n",
       "  'Associate Professor of Biostatistics',\n",
       "  'rlocalio@upenn.edu'),\n",
       " 'Mitra': ('PhD',\n",
       "  'Associate Professor of Biostatistics',\n",
       "  'nanditam@mail.med.upenn.edu'),\n",
       " 'Morales': ('ScD',\n",
       "  'Associate Professor of Biostatistics',\n",
       "  'knashawn@mail.med.upenn.edu'),\n",
       " 'Propert': ('ScD',\n",
       "  'Professor of Biostatistics',\n",
       "  'propert@mail.med.upenn.edu'),\n",
       " 'Putt': ('PhD ScD', 'Professor of Biostatistics', 'mputt@mail.med.upenn.edu'),\n",
       " 'Ratcliffe': ('PhD',\n",
       "  'Associate Professor of Biostatistics',\n",
       "  'sratclif@upenn.edu'),\n",
       " 'Ross': ('PhD', 'Assistant Professor of Biostatistics', 'michross@upenn.edu'),\n",
       " 'Roy': ('PhD',\n",
       "  'Associate Professor of Biostatistics',\n",
       "  'jaroy@mail.med.upenn.edu'),\n",
       " 'Sammel': ('ScD', 'Professor of Biostatistics', 'msammel@cceb.med.upenn.edu'),\n",
       " 'Shaw': ('PhD', 'Assistant Professor of Biostatistics', 'shawp@upenn.edu'),\n",
       " 'Shinohara': ('none',\n",
       "  'Assistant Professor of Biostatistics',\n",
       "  'rshi@mail.med.upenn.edu'),\n",
       " 'Shou': ('PhD',\n",
       "  'Assistant Professor of Biostatistics',\n",
       "  'hshou@mail.med.upenn.edu'),\n",
       " 'Shults': ('PhD', 'Professor of Biostatistics', 'jshults@mail.med.upenn.edu'),\n",
       " 'Stephens': ('PhD',\n",
       "  'Assistant Professor of Biostatistics',\n",
       "  'alisaste@mail.med.upenn.edu'),\n",
       " 'Troxel': ('ScD', 'Professor of Biostatistics', 'atroxel@mail.med.upenn.edu'),\n",
       " 'Xiao': ('PhD',\n",
       "  'Assistant Professor of Biostatistics',\n",
       "  'rxiao@mail.med.upenn.edu'),\n",
       " 'Xie': ('PhD', 'Assistant Professor of Biostatistics', 'dxie@upenn.edu'),\n",
       " 'Yang': ('PhD',\n",
       "  'Assistant Professor of Biostatistics',\n",
       "  'weiyang@mail.med.upenn.edu')}"
      ]
     },
     "execution_count": 94,
     "metadata": {},
     "output_type": "execute_result"
    }
   ],
   "source": [
    "faculty_dict = {}\n",
    "for index, row in data.iterrows():\n",
    "    faculty_dict[row['name'].split()[-1]] = row.degree, row.title, row.email\n",
    "faculty_dict"
   ]
  },
  {
   "cell_type": "code",
   "execution_count": 89,
   "metadata": {
    "collapsed": false
   },
   "outputs": [
    {
     "data": {
      "text/plain": [
       "{('A.', 'Localio'): ('JD MA MPH MS PhD',\n",
       "  'Associate Professor of Biostatistics',\n",
       "  'rlocalio@upenn.edu'),\n",
       " ('Alisa', 'Stephens'): ('PhD',\n",
       "  'Assistant Professor of Biostatistics',\n",
       "  'alisaste@mail.med.upenn.edu'),\n",
       " ('Andrea', 'Troxel'): ('ScD',\n",
       "  'Professor of Biostatistics',\n",
       "  'atroxel@mail.med.upenn.edu'),\n",
       " ('Benjamin', 'French'): ('PhD',\n",
       "  'Associate Professor of Biostatistics',\n",
       "  'bcfrench@mail.med.upenn.edu'),\n",
       " ('Dawei', 'Xie'): ('PhD',\n",
       "  'Assistant Professor of Biostatistics',\n",
       "  'dxie@upenn.edu'),\n",
       " ('Haochang', 'Shou'): ('PhD',\n",
       "  'Assistant Professor of Biostatistics',\n",
       "  'hshou@mail.med.upenn.edu'),\n",
       " ('Hongzhe', 'Li'): ('PhD', 'Professor of Biostatistics', 'hongzhe@upenn.edu'),\n",
       " ('J.', 'Landis'): ('BSEd MS PhD',\n",
       "  'Professor of Biostatistics',\n",
       "  'jrlandis@mail.med.upenn.edu'),\n",
       " ('Jason', 'Roy'): ('PhD',\n",
       "  'Associate Professor of Biostatistics',\n",
       "  'jaroy@mail.med.upenn.edu'),\n",
       " ('Jinbo', 'Chen'): ('PhD',\n",
       "  'Associate Professor of Biostatistics',\n",
       "  'jinboche@upenn.edu'),\n",
       " ('Jonas', 'Ellenberg'): ('PhD',\n",
       "  'Professor of Biostatistics',\n",
       "  'jellenbe@mail.med.upenn.edu'),\n",
       " ('Justine', 'Shults'): ('PhD',\n",
       "  'Professor of Biostatistics',\n",
       "  'jshults@mail.med.upenn.edu'),\n",
       " ('Kathleen', 'Propert'): ('ScD',\n",
       "  'Professor of Biostatistics',\n",
       "  'propert@mail.med.upenn.edu'),\n",
       " ('Knashawn', 'Morales'): ('ScD',\n",
       "  'Associate Professor of Biostatistics',\n",
       "  'knashawn@mail.med.upenn.edu'),\n",
       " ('Marshall', 'Joffe'): ('MD MPH PhD',\n",
       "  'Professor of Biostatistics',\n",
       "  'mjoffe@mail.med.upenn.edu'),\n",
       " ('Mary', 'Putt'): ('PhD ScD',\n",
       "  'Professor of Biostatistics',\n",
       "  'mputt@mail.med.upenn.edu'),\n",
       " ('Mary', 'Sammel'): ('ScD',\n",
       "  'Professor of Biostatistics',\n",
       "  'msammel@cceb.med.upenn.edu'),\n",
       " ('Matthew', 'Bryan'): ('PhD',\n",
       "  'Assistant Professor of Biostatistics',\n",
       "  'bryanma@upenn.edu'),\n",
       " ('Michelle', 'Ross'): ('PhD',\n",
       "  'Assistant Professor of Biostatistics',\n",
       "  'michross@upenn.edu'),\n",
       " ('Mingyao', 'Li'): ('PhD',\n",
       "  'Associate Professor of Biostatistics',\n",
       "  'mingyao@mail.med.upenn.edu'),\n",
       " ('Nandita', 'Mitra'): ('PhD',\n",
       "  'Associate Professor of Biostatistics',\n",
       "  'nanditam@mail.med.upenn.edu'),\n",
       " ('Pamela', 'Shaw'): ('PhD',\n",
       "  'Assistant Professor of Biostatistics',\n",
       "  'shawp@upenn.edu'),\n",
       " ('Phyllis', 'Gimotty'): ('PhD',\n",
       "  'Professor of Biostatistics',\n",
       "  'pgimotty@upenn.edu'),\n",
       " ('Rebecca', 'Hubbard'): ('PhD',\n",
       "  'Associate Professor of Biostatistics',\n",
       "  'rhubb@mail.med.upenn.edu'),\n",
       " ('Rui', 'Feng'): ('PhD',\n",
       "  'Assistant Professor of Biostatistics',\n",
       "  'ruifeng@upenn.edu'),\n",
       " ('Rui', 'Xiao'): ('PhD',\n",
       "  'Assistant Professor of Biostatistics',\n",
       "  'rxiao@mail.med.upenn.edu'),\n",
       " ('Russell', 'Shinohara'): ('none',\n",
       "  'Assistant Professor of Biostatistics',\n",
       "  'rshi@mail.med.upenn.edu'),\n",
       " ('Sarah', 'Ratcliffe'): ('PhD',\n",
       "  'Associate Professor of Biostatistics',\n",
       "  'sratclif@upenn.edu'),\n",
       " ('Scarlett', 'Bellamy'): ('ScD',\n",
       "  'Associate Professor of Biostatistics',\n",
       "  'bellamys@mail.med.upenn.edu'),\n",
       " ('Sharon', 'Xie'): ('PhD',\n",
       "  'Associate Professor of Biostatistics',\n",
       "  'sxie@mail.med.upenn.edu'),\n",
       " ('Susan', 'Ellenberg'): ('PhD',\n",
       "  'Professor of Biostatistics',\n",
       "  'sellenbe@upenn.edu'),\n",
       " ('Warren', 'Bilker'): ('PhD',\n",
       "  'Professor of Biostatistics',\n",
       "  'warren@upenn.edu'),\n",
       " ('Wei', 'Yang'): ('PhD',\n",
       "  'Assistant Professor of Biostatistics',\n",
       "  'weiyang@mail.med.upenn.edu'),\n",
       " ('Wei-Ting', 'Hwang'): ('PhD',\n",
       "  'Associate Professor of Biostatistics',\n",
       "  'whwang@mail.med.upenn.edu'),\n",
       " ('Wensheng', 'Guo'): ('PhD',\n",
       "  'Professor of Biostatistics',\n",
       "  'wguo@mail.med.upenn.edu'),\n",
       " ('Yenchih', 'Hsu'): ('PhD',\n",
       "  'Assistant Professor of Biostatistics',\n",
       "  'hsu9@mail.med.upenn.edu'),\n",
       " ('Yimei', 'Li'): ('PhD',\n",
       "  'Assistant Professor of Biostatistics',\n",
       "  'liy3@email.chop.edu')}"
      ]
     },
     "execution_count": 89,
     "metadata": {},
     "output_type": "execute_result"
    }
   ],
   "source": [
    "faculty_dict = {}\n",
    "for index, row in data.iterrows():\n",
    "    faculty_dict[row['name'].split()[0], row['name'].split()[-1]] = row.degree, row.title, row.email\n",
    "faculty_dict"
   ]
  },
  {
   "cell_type": "code",
   "execution_count": 102,
   "metadata": {
    "collapsed": false
   },
   "outputs": [
    {
     "data": {
      "text/plain": [
       "[(('Scarlett', 'Bellamy'),\n",
       "  ('ScD',\n",
       "   'Associate Professor of Biostatistics',\n",
       "   'bellamys@mail.med.upenn.edu')),\n",
       " (('Warren', 'Bilker'),\n",
       "  ('PhD', 'Professor of Biostatistics', 'warren@upenn.edu')),\n",
       " (('Matthew', 'Bryan'),\n",
       "  ('PhD', 'Assistant Professor of Biostatistics', 'bryanma@upenn.edu')),\n",
       " (('Jinbo', 'Chen'),\n",
       "  ('PhD', 'Associate Professor of Biostatistics', 'jinboche@upenn.edu')),\n",
       " (('Susan', 'Ellenberg'),\n",
       "  ('PhD', 'Professor of Biostatistics', 'sellenbe@upenn.edu')),\n",
       " (('Jonas', 'Ellenberg'),\n",
       "  ('PhD', 'Professor of Biostatistics', 'jellenbe@mail.med.upenn.edu')),\n",
       " (('Rui', 'Feng'),\n",
       "  ('PhD', 'Assistant Professor of Biostatistics', 'ruifeng@upenn.edu')),\n",
       " (('Benjamin', 'French'),\n",
       "  ('PhD',\n",
       "   'Associate Professor of Biostatistics',\n",
       "   'bcfrench@mail.med.upenn.edu')),\n",
       " (('Phyllis', 'Gimotty'),\n",
       "  ('PhD', 'Professor of Biostatistics', 'pgimotty@upenn.edu')),\n",
       " (('Wensheng', 'Guo'),\n",
       "  ('PhD', 'Professor of Biostatistics', 'wguo@mail.med.upenn.edu')),\n",
       " (('Yenchih', 'Hsu'),\n",
       "  ('PhD', 'Assistant Professor of Biostatistics', 'hsu9@mail.med.upenn.edu')),\n",
       " (('Rebecca', 'Hubbard'),\n",
       "  ('PhD', 'Associate Professor of Biostatistics', 'rhubb@mail.med.upenn.edu')),\n",
       " (('Wei-Ting', 'Hwang'),\n",
       "  ('PhD',\n",
       "   'Associate Professor of Biostatistics',\n",
       "   'whwang@mail.med.upenn.edu')),\n",
       " (('Marshall', 'Joffe'),\n",
       "  ('MD MPH PhD', 'Professor of Biostatistics', 'mjoffe@mail.med.upenn.edu')),\n",
       " (('J.', 'Landis'),\n",
       "  ('BSEd MS PhD',\n",
       "   'Professor of Biostatistics',\n",
       "   'jrlandis@mail.med.upenn.edu')),\n",
       " (('Yimei', 'Li'),\n",
       "  ('PhD', 'Assistant Professor of Biostatistics', 'liy3@email.chop.edu')),\n",
       " (('Hongzhe', 'Li'),\n",
       "  ('PhD', 'Professor of Biostatistics', 'hongzhe@upenn.edu')),\n",
       " (('Mingyao', 'Li'),\n",
       "  ('PhD',\n",
       "   'Associate Professor of Biostatistics',\n",
       "   'mingyao@mail.med.upenn.edu')),\n",
       " (('A.', 'Localio'),\n",
       "  ('JD MA MPH MS PhD',\n",
       "   'Associate Professor of Biostatistics',\n",
       "   'rlocalio@upenn.edu')),\n",
       " (('Nandita', 'Mitra'),\n",
       "  ('PhD',\n",
       "   'Associate Professor of Biostatistics',\n",
       "   'nanditam@mail.med.upenn.edu')),\n",
       " (('Knashawn', 'Morales'),\n",
       "  ('ScD',\n",
       "   'Associate Professor of Biostatistics',\n",
       "   'knashawn@mail.med.upenn.edu')),\n",
       " (('Kathleen', 'Propert'),\n",
       "  ('ScD', 'Professor of Biostatistics', 'propert@mail.med.upenn.edu')),\n",
       " (('Mary', 'Putt'),\n",
       "  ('PhD ScD', 'Professor of Biostatistics', 'mputt@mail.med.upenn.edu')),\n",
       " (('Sarah', 'Ratcliffe'),\n",
       "  ('PhD', 'Associate Professor of Biostatistics', 'sratclif@upenn.edu')),\n",
       " (('Michelle', 'Ross'),\n",
       "  ('PhD', 'Assistant Professor of Biostatistics', 'michross@upenn.edu')),\n",
       " (('Jason', 'Roy'),\n",
       "  ('PhD', 'Associate Professor of Biostatistics', 'jaroy@mail.med.upenn.edu')),\n",
       " (('Mary', 'Sammel'),\n",
       "  ('ScD', 'Professor of Biostatistics', 'msammel@cceb.med.upenn.edu')),\n",
       " (('Pamela', 'Shaw'),\n",
       "  ('PhD', 'Assistant Professor of Biostatistics', 'shawp@upenn.edu')),\n",
       " (('Russell', 'Shinohara'),\n",
       "  ('none', 'Assistant Professor of Biostatistics', 'rshi@mail.med.upenn.edu')),\n",
       " (('Haochang', 'Shou'),\n",
       "  ('PhD', 'Assistant Professor of Biostatistics', 'hshou@mail.med.upenn.edu')),\n",
       " (('Justine', 'Shults'),\n",
       "  ('PhD', 'Professor of Biostatistics', 'jshults@mail.med.upenn.edu')),\n",
       " (('Alisa', 'Stephens'),\n",
       "  ('PhD',\n",
       "   'Assistant Professor of Biostatistics',\n",
       "   'alisaste@mail.med.upenn.edu')),\n",
       " (('Andrea', 'Troxel'),\n",
       "  ('ScD', 'Professor of Biostatistics', 'atroxel@mail.med.upenn.edu')),\n",
       " (('Rui', 'Xiao'),\n",
       "  ('PhD', 'Assistant Professor of Biostatistics', 'rxiao@mail.med.upenn.edu')),\n",
       " (('Dawei', 'Xie'),\n",
       "  ('PhD', 'Assistant Professor of Biostatistics', 'dxie@upenn.edu')),\n",
       " (('Sharon', 'Xie'),\n",
       "  ('PhD', 'Associate Professor of Biostatistics', 'sxie@mail.med.upenn.edu')),\n",
       " (('Wei', 'Yang'),\n",
       "  ('PhD',\n",
       "   'Assistant Professor of Biostatistics',\n",
       "   'weiyang@mail.med.upenn.edu'))]"
      ]
     },
     "execution_count": 102,
     "metadata": {},
     "output_type": "execute_result"
    }
   ],
   "source": [
    "faculty_dict = {}\n",
    "for index, row in data.iterrows():\n",
    "    faculty_dict[row['name'].split()[0], row['name'].split()[-1]] = row.degree, row.title, row.email\n",
    "\n",
    "sorted(faculty_dict.items(), key=lambda key: key[0][1])"
   ]
  },
  {
   "cell_type": "code",
   "execution_count": null,
   "metadata": {
    "collapsed": true
   },
   "outputs": [],
   "source": []
  }
 ],
 "metadata": {
  "kernelspec": {
   "display_name": "Python 3",
   "language": "python",
   "name": "python3"
  },
  "language_info": {
   "codemirror_mode": {
    "name": "ipython",
    "version": 3
   },
   "file_extension": ".py",
   "mimetype": "text/x-python",
   "name": "python",
   "nbconvert_exporter": "python",
   "pygments_lexer": "ipython3",
   "version": "3.5.1"
  }
 },
 "nbformat": 4,
 "nbformat_minor": 0
}
